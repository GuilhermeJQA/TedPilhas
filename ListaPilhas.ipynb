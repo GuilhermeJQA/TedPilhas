{
  "nbformat": 4,
  "nbformat_minor": 0,
  "metadata": {
    "colab": {
      "provenance": [],
      "include_colab_link": true
    },
    "kernelspec": {
      "name": "python3",
      "display_name": "Python 3"
    },
    "language_info": {
      "name": "python"
    }
  },
  "cells": [
    {
      "cell_type": "markdown",
      "metadata": {
        "id": "view-in-github",
        "colab_type": "text"
      },
      "source": [
        "<a href=\"https://colab.research.google.com/github/GuilhermeJQA/TedPilhas/blob/main/ListaPilhas.ipynb\" target=\"_parent\"><img src=\"https://colab.research.google.com/assets/colab-badge.svg\" alt=\"Open In Colab\"/></a>"
      ]
    },
    {
      "cell_type": "code",
      "execution_count": null,
      "metadata": {
        "id": "PQw0_LwN7G5o"
      },
      "outputs": [],
      "source": [
        "# NUMERO 1\n",
        "maior = 0\n",
        "def maior_elemento(pilha):\n",
        "  for i in pilha:\n",
        "    maior = 0\n",
        "    if i > maior:\n",
        "      maior = i\n",
        "  print(maior)"
      ]
    },
    {
      "cell_type": "code",
      "source": [
        "# NUMERO 2  \n",
        "def compara_listas(pilha1,pilha2):\n",
        "  if(set(pilha1) == set(pilha2)):\n",
        "    print(\"As pilhas são iguais\")\n",
        "  else:\n",
        "    print(\"As pilhas não são iguais\")"
      ],
      "metadata": {
        "id": "Bl8Q1sLi_n8p"
      },
      "execution_count": null,
      "outputs": []
    },
    {
      "cell_type": "code",
      "source": [
        "# NUMERO 3\n",
        "  def preenche_pilha(vetor):\n",
        "    pilha = []\n",
        "    for i in vetor:\n",
        "      pilha.append(i)\n",
        "    print(pilha)"
      ],
      "metadata": {
        "id": "pQzFhqO6AgzI"
      },
      "execution_count": null,
      "outputs": []
    },
    {
      "cell_type": "code",
      "source": [
        "# NUMERO 4\n",
        "rua=[]\n",
        "    # FUNCAO QUE ARMAZENA AS PLACAS DE CARRO NA RUA\n",
        "\n",
        "def armazena_placa(placa):\n",
        "  rua.append(placa)\n",
        "\n",
        "    #FUNCAO QUE COMPARA A PLACA FORNECIDA COM AS DA RUA E INFORMA SE EXISTE ALGUMA\n",
        "    # CASO EXISTA, INFORMA QUANTOS CARROS SERÃO NECESSÁRIOS RETIRAR PARA QUE ELE POSSA SAIR\n",
        "\n",
        "def encontra_placa(placa):\n",
        "  for i in rua:\n",
        "    if placa == i:\n",
        "      x = int(rua.index(i))\n",
        "      y = int(len(rua))\n",
        "      c = (y - x)-1\n",
        "      print('O carro está estacionado, será necessário que',c, 'carros sejam retirados!')\n",
        "    else:('Carro não estacionado!!')"
      ],
      "metadata": {
        "id": "qQHD0p_xD4Kv"
      },
      "execution_count": null,
      "outputs": []
    },
    {
      "cell_type": "code",
      "source": [
        "# NUMERO 5\n",
        "def inverte_sequencia(numeros):\n",
        "  print('Sequência inserida: ',,numeros)\n",
        "  numeros.reverse()\n",
        "  print('Sequência invertida: ',numeros)"
      ],
      "metadata": {
        "id": "EM1crmW2QPwv"
      },
      "execution_count": null,
      "outputs": []
    },
    {
      "cell_type": "code",
      "source": [
        "  # NUMERO 6\n",
        "def TPilha(vetor):\n",
        "  pilha=[]\n",
        "  v = int(len(vetor))\n",
        "  if v == 15: \n",
        "    for i in vetor:\n",
        "      if (i%2) == 0: \n",
        "        pilha.append(i)\n",
        "      else:\n",
        "        if int(len(pilha))>0:\n",
        "          pilha.pop()\n",
        "        else: break\n",
        "    print(pilha)\n",
        "  else: print(\"São necessários 15 elementos\")"
      ],
      "metadata": {
        "id": "go0EZmU3R43W"
      },
      "execution_count": null,
      "outputs": []
    },
    {
      "cell_type": "code",
      "source": [
        "#NUMERO 7\n",
        "def TPilha2(vetor):\n",
        "  N =[]\n",
        "  P=[]\n",
        "  for i in vetor:\n",
        "    if i>0:\n",
        "      P.append(i)\n",
        "    if i<0:\n",
        "      N.append(i)\n",
        "    if i == 0: \n",
        "      P.pop()\n",
        "      N.pop()\n",
        "\n",
        "  print('Positivos:',P,'Negativos:',N)"
      ],
      "metadata": {
        "id": "7wcc1gw-Yzvm"
      },
      "execution_count": null,
      "outputs": []
    }
  ]
}